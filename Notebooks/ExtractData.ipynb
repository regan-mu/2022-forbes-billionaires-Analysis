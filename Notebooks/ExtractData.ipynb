{
 "cells": [
  {
   "attachments": {},
   "cell_type": "markdown",
   "metadata": {},
   "source": [
    "# Data Extraction\n",
    "* Here I'll axtract the data from [forbes](https://www.forbes.com/billionaires/page-data/index/page-data.json).\n",
    "* Then prepared the data and save it into a CSV file that will be used for Data Analysis."
   ]
  },
  {
   "cell_type": "code",
   "execution_count": 1,
   "metadata": {},
   "outputs": [],
   "source": [
    "#import libraries\n",
    "import requests\n",
    "import pandas as pd"
   ]
  },
  {
   "attachments": {},
   "cell_type": "markdown",
   "metadata": {},
   "source": [
    "### Fetch the data from the Forbes website.\n",
    "* No data scraping is required because forbes provides the data directly in json."
   ]
  },
  {
   "cell_type": "code",
   "execution_count": 2,
   "metadata": {},
   "outputs": [],
   "source": [
    "def fetch_data():\n",
    "    \"\"\"\n",
    "        Fetches the data from from and extracts the billionaires list\n",
    "        as a list of dictionaries with each dictionary representing an individual billionaire and their info\n",
    "    \"\"\"\n",
    "    url = \"https://www.forbes.com/billionaires/page-data/index/page-data.json\"\n",
    "    content = requests.get(url)\n",
    "    data = content.json()\n",
    "    raw_data = data[\"result\"][\"pageContext\"][\"tableData\"]\n",
    "    return raw_data"
   ]
  },
  {
   "cell_type": "code",
   "execution_count": 3,
   "metadata": {},
   "outputs": [],
   "source": [
    "def get_cols(col):\n",
    "    \"\"\"\n",
    "        Fetches the values for each field for all bilionaires\n",
    "        Return a list of values for each billionaire attribute.\n",
    "    \"\"\"\n",
    "    col_values = []\n",
    "    for person in fetch_data():\n",
    "        try:\n",
    "            raw_attribute = person[col]\n",
    "        except KeyError:\n",
    "            col_values.append(None)\n",
    "        else:\n",
    "            col_values.append(raw_attribute)\n",
    "    return col_values"
   ]
  },
  {
   "cell_type": "code",
   "execution_count": 4,
   "metadata": {},
   "outputs": [],
   "source": [
    "def create_dataframe():\n",
    "    \"\"\"\n",
    "        Generates the Dataframe for the values returned by the get_cols function.\n",
    "    \"\"\"\n",
    "    attributes = [\n",
    "        \"rank\", \"personName\", \"age\", \"country\", \"month\", \"year\", \n",
    "         \"netWorth\", \"source\", \"industries\",\n",
    "        \"countryOfCitizenship\",\"selfMade\",\n",
    "        \"title\", \"city\", \"gender\"\n",
    "    ]\n",
    "    data_dictionary = {}\n",
    "    for attribute in attributes:\n",
    "        dt = get_cols(attribute)\n",
    "        data_dictionary[attribute] = dt\n",
    "    df = pd.DataFrame(data_dictionary)\n",
    "    return df"
   ]
  },
  {
   "cell_type": "code",
   "execution_count": 5,
   "metadata": {},
   "outputs": [
    {
     "data": {
      "text/html": [
       "<div>\n",
       "<style scoped>\n",
       "    .dataframe tbody tr th:only-of-type {\n",
       "        vertical-align: middle;\n",
       "    }\n",
       "\n",
       "    .dataframe tbody tr th {\n",
       "        vertical-align: top;\n",
       "    }\n",
       "\n",
       "    .dataframe thead th {\n",
       "        text-align: right;\n",
       "    }\n",
       "</style>\n",
       "<table border=\"1\" class=\"dataframe\">\n",
       "  <thead>\n",
       "    <tr style=\"text-align: right;\">\n",
       "      <th></th>\n",
       "      <th>rank</th>\n",
       "      <th>personName</th>\n",
       "      <th>age</th>\n",
       "      <th>country</th>\n",
       "      <th>month</th>\n",
       "      <th>year</th>\n",
       "      <th>netWorth</th>\n",
       "      <th>source</th>\n",
       "      <th>industries</th>\n",
       "      <th>countryOfCitizenship</th>\n",
       "      <th>selfMade</th>\n",
       "      <th>title</th>\n",
       "      <th>city</th>\n",
       "      <th>gender</th>\n",
       "    </tr>\n",
       "  </thead>\n",
       "  <tbody>\n",
       "    <tr>\n",
       "      <th>0</th>\n",
       "      <td>1</td>\n",
       "      <td>Elon Musk</td>\n",
       "      <td>50</td>\n",
       "      <td>United States</td>\n",
       "      <td>4</td>\n",
       "      <td>2022</td>\n",
       "      <td>$219 B</td>\n",
       "      <td>Tesla, SpaceX</td>\n",
       "      <td>Automotive</td>\n",
       "      <td>United States</td>\n",
       "      <td>True</td>\n",
       "      <td>CEO</td>\n",
       "      <td>Austin</td>\n",
       "      <td>M</td>\n",
       "    </tr>\n",
       "    <tr>\n",
       "      <th>1</th>\n",
       "      <td>2</td>\n",
       "      <td>Jeff Bezos</td>\n",
       "      <td>58</td>\n",
       "      <td>United States</td>\n",
       "      <td>4</td>\n",
       "      <td>2022</td>\n",
       "      <td>$171 B</td>\n",
       "      <td>Amazon</td>\n",
       "      <td>Technology</td>\n",
       "      <td>United States</td>\n",
       "      <td>True</td>\n",
       "      <td>Chairman and Founder</td>\n",
       "      <td>Seattle</td>\n",
       "      <td>M</td>\n",
       "    </tr>\n",
       "    <tr>\n",
       "      <th>2</th>\n",
       "      <td>3</td>\n",
       "      <td>Bernard Arnault &amp; family</td>\n",
       "      <td>73</td>\n",
       "      <td>France</td>\n",
       "      <td>4</td>\n",
       "      <td>2022</td>\n",
       "      <td>$158 B</td>\n",
       "      <td>LVMH</td>\n",
       "      <td>Fashion &amp; Retail</td>\n",
       "      <td>France</td>\n",
       "      <td>False</td>\n",
       "      <td>Chairman and CEO</td>\n",
       "      <td>Paris</td>\n",
       "      <td>M</td>\n",
       "    </tr>\n",
       "    <tr>\n",
       "      <th>3</th>\n",
       "      <td>4</td>\n",
       "      <td>Bill Gates</td>\n",
       "      <td>66</td>\n",
       "      <td>United States</td>\n",
       "      <td>4</td>\n",
       "      <td>2022</td>\n",
       "      <td>$129 B</td>\n",
       "      <td>Microsoft</td>\n",
       "      <td>Technology</td>\n",
       "      <td>United States</td>\n",
       "      <td>True</td>\n",
       "      <td>Cofounder</td>\n",
       "      <td>Medina</td>\n",
       "      <td>M</td>\n",
       "    </tr>\n",
       "    <tr>\n",
       "      <th>4</th>\n",
       "      <td>5</td>\n",
       "      <td>Warren Buffett</td>\n",
       "      <td>91</td>\n",
       "      <td>United States</td>\n",
       "      <td>4</td>\n",
       "      <td>2022</td>\n",
       "      <td>$118 B</td>\n",
       "      <td>Berkshire Hathaway</td>\n",
       "      <td>Finance &amp; Investments</td>\n",
       "      <td>United States</td>\n",
       "      <td>True</td>\n",
       "      <td>CEO</td>\n",
       "      <td>Omaha</td>\n",
       "      <td>M</td>\n",
       "    </tr>\n",
       "  </tbody>\n",
       "</table>\n",
       "</div>"
      ],
      "text/plain": [
       "   rank                personName  age        country  month  year netWorth  \\\n",
       "0     1                 Elon Musk   50  United States      4  2022   $219 B   \n",
       "1     2                Jeff Bezos   58  United States      4  2022   $171 B   \n",
       "2     3  Bernard Arnault & family   73         France      4  2022   $158 B   \n",
       "3     4                Bill Gates   66  United States      4  2022   $129 B   \n",
       "4     5            Warren Buffett   91  United States      4  2022   $118 B   \n",
       "\n",
       "               source             industries countryOfCitizenship  selfMade  \\\n",
       "0       Tesla, SpaceX             Automotive        United States      True   \n",
       "1              Amazon             Technology        United States      True   \n",
       "2                LVMH       Fashion & Retail               France     False   \n",
       "3           Microsoft             Technology        United States      True   \n",
       "4  Berkshire Hathaway  Finance & Investments        United States      True   \n",
       "\n",
       "                  title     city gender  \n",
       "0                   CEO   Austin      M  \n",
       "1  Chairman and Founder  Seattle      M  \n",
       "2      Chairman and CEO    Paris      M  \n",
       "3             Cofounder   Medina      M  \n",
       "4                   CEO    Omaha      M  "
      ]
     },
     "execution_count": 5,
     "metadata": {},
     "output_type": "execute_result"
    }
   ],
   "source": [
    "df = create_dataframe()\n",
    "df.head()\n"
   ]
  },
  {
   "cell_type": "code",
   "execution_count": 6,
   "metadata": {},
   "outputs": [],
   "source": [
    "df = df.rename(columns=(\n",
    "    {\n",
    "        \"personName\": \"Name\", \"month\": \"Month\", \"year\": \"Year\", \"rank\": \"Rank\",\n",
    "        \"age\": \"Age\", \"netWorth\": \"Networth\", \"source\": \"Source\", \"industries\": \"Industries\",\n",
    "        \"countryOfCitizenship\": \"CountryOfCitizenship\", \"selfMade\": \"Selfmade\", \"country\": \"Country\",\n",
    "        \"title\": \"Title\", \"city\": \"City\", \"gender\": \"Gender\"\n",
    "    }\n",
    "))"
   ]
  },
  {
   "attachments": {},
   "cell_type": "markdown",
   "metadata": {},
   "source": [
    "### Save the Dataframe into a CSV file"
   ]
  },
  {
   "cell_type": "code",
   "execution_count": 7,
   "metadata": {},
   "outputs": [],
   "source": [
    "df.to_csv(\"../Datasets/forbes_2022_billionaires.csv\", index=False)"
   ]
  },
  {
   "cell_type": "code",
   "execution_count": null,
   "metadata": {},
   "outputs": [],
   "source": []
  }
 ],
 "metadata": {
  "kernelspec": {
   "display_name": "base",
   "language": "python",
   "name": "python3"
  },
  "language_info": {
   "codemirror_mode": {
    "name": "ipython",
    "version": 3
   },
   "file_extension": ".py",
   "mimetype": "text/x-python",
   "name": "python",
   "nbconvert_exporter": "python",
   "pygments_lexer": "ipython3",
   "version": "3.9.13"
  },
  "orig_nbformat": 4
 },
 "nbformat": 4,
 "nbformat_minor": 2
}
